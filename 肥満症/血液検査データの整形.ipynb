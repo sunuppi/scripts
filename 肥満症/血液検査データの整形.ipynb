{
 "cells": [
  {
   "cell_type": "code",
   "execution_count": 89,
   "metadata": {},
   "outputs": [],
   "source": [
    "import pandas as pd \n",
    "import numpy as np\n",
    "import matplotlib as plt\n",
    "import japanize_matplotlib \n",
    "import os \n",
    "import openpyxl\n",
    "from chardet import detect\n",
    "import chardet"
   ]
  },
  {
   "cell_type": "markdown",
   "metadata": {},
   "source": [
    "血液検査2の方は、なんか変な文字使われていて、cp932かshift_jisx0213で読み込む必要がある。"
   ]
  },
  {
   "cell_type": "code",
   "execution_count": 90,
   "metadata": {},
   "outputs": [
    {
     "name": "stderr",
     "output_type": "stream",
     "text": [
      "C:\\Users\\Yoshi\\AppData\\Local\\Temp\\ipykernel_27612\\2590551049.py:2: DtypeWarning: Columns (92,100,124,148,180,207,213,220,268,276,287,292,293,300,308,324,340,348,375,380,381,383,388,389) have mixed types. Specify dtype option on import or set low_memory=False.\n",
      "  df = pd.read_csv(path + \"a591889084094fb8a64fff2a0b11eb67__EDFU_血液検査.csv\" , sep = ',' , encoding = \"shift_jisx0213\")\n"
     ]
    }
   ],
   "source": [
    "path = \"E:/2021_12_16_100834_ExportFile/\"\n",
    "df = pd.read_csv(path + \"a591889084094fb8a64fff2a0b11eb67__EDFU_血液検査.csv\" , sep = ',' , encoding = \"shift_jisx0213\")"
   ]
  },
  {
   "cell_type": "code",
   "execution_count": 91,
   "metadata": {},
   "outputs": [],
   "source": [
    "# 除外症例を除く\n",
    "df = df.set_index(\"施設匿名化ID\")\n",
    "# 除外症例4つのうち存在するのは以下の２つのみ\n",
    "df = df.drop(index = ['KOB0000004','KOB0000750']).reset_index().reset_index(drop = True)"
   ]
  },
  {
   "cell_type": "code",
   "execution_count": 99,
   "metadata": {},
   "outputs": [],
   "source": [
    "col = df.columns.str.contains(\"ImplementationDateBL|Name1|Value\" , na = True)"
   ]
  },
  {
   "cell_type": "code",
   "execution_count": 102,
   "metadata": {},
   "outputs": [
    {
     "ename": "InvalidIndexError",
     "evalue": "(slice(None, None, None), array([False, False, False, False, False,  True, False,  True, False,\n       False, False, False,  True,  True, False,  True, False, False,\n       False, False,  True,  True, False,  True, False, False, False,\n       False,  True,  True, False,  True, False, False, False, False,\n        True,  True, False,  True, False, False, False, False,  True,\n        True, False,  True, False, False, False, False,  True,  True,\n       False,  True, False, False, False, False,  True,  True, False,\n        True, False, False, False, False,  True,  True, False,  True,\n       False, False, False, False,  True,  True, False,  True, False,\n       False, False, False,  True,  True, False,  True, False, False,\n       False, False,  True,  True, False,  True, False, False, False,\n       False,  True,  True, False,  True, False, False, False, False,\n        True,  True, False,  True, False, False, False, False,  True,\n        True, False,  True, False, False, False, False,  True,  True,\n       False,  True, False, False, False, False,  True,  True, False,\n        True, False, False, False, False,  True,  True, False,  True,\n       False, False, False, False,  True,  True, False,  True, False,\n       False, False, False,  True,  True, False,  True, False, False,\n       False, False,  True,  True, False,  True, False, False, False,\n       False,  True,  True, False,  True, False, False, False, False,\n        True,  True, False,  True, False, False, False, False,  True,\n        True, False,  True, False, False, False, False,  True,  True,\n       False,  True, False, False, False, False,  True,  True, False,\n        True, False, False, False, False,  True,  True, False,  True,\n       False, False, False, False,  True,  True, False,  True, False,\n       False, False, False,  True,  True, False,  True, False, False,\n       False, False,  True,  True, False,  True, False, False, False,\n       False,  True,  True, False,  True, False, False, False, False,\n        True,  True, False,  True, False, False, False, False,  True,\n        True, False,  True, False, False, False, False,  True,  True,\n       False,  True, False, False, False, False,  True,  True, False,\n        True, False, False, False, False,  True,  True, False,  True,\n       False, False, False, False,  True,  True, False,  True, False,\n       False, False, False,  True,  True, False,  True, False, False,\n       False, False,  True,  True, False,  True, False, False, False,\n       False,  True,  True, False,  True, False, False, False, False,\n        True,  True, False,  True, False, False, False, False,  True,\n        True, False,  True, False, False, False, False,  True,  True,\n       False,  True, False, False, False, False,  True,  True, False,\n        True, False, False, False, False,  True,  True, False,  True,\n       False, False, False, False,  True,  True, False,  True, False,\n       False, False, False,  True,  True, False,  True, False, False,\n       False, False,  True,  True, False,  True, False, False, False,\n       False,  True,  True, False,  True, False, False, False, False,\n        True,  True, False,  True, False, False, False, False,  True,\n        True, False, False]))",
     "output_type": "error",
     "traceback": [
      "\u001b[1;31m---------------------------------------------------------------------------\u001b[0m",
      "\u001b[1;31mTypeError\u001b[0m                                 Traceback (most recent call last)",
      "File \u001b[1;32mc:\\Users\\Yoshi\\Documents\\GitHub\\git-env\\lib\\site-packages\\pandas\\core\\indexes\\base.py:3621\u001b[0m, in \u001b[0;36mIndex.get_loc\u001b[1;34m(self, key, method, tolerance)\u001b[0m\n\u001b[0;32m   <a href='file:///c%3A/Users/Yoshi/Documents/GitHub/git-env/lib/site-packages/pandas/core/indexes/base.py?line=3619'>3620</a>\u001b[0m \u001b[39mtry\u001b[39;00m:\n\u001b[1;32m-> <a href='file:///c%3A/Users/Yoshi/Documents/GitHub/git-env/lib/site-packages/pandas/core/indexes/base.py?line=3620'>3621</a>\u001b[0m     \u001b[39mreturn\u001b[39;00m \u001b[39mself\u001b[39;49m\u001b[39m.\u001b[39;49m_engine\u001b[39m.\u001b[39;49mget_loc(casted_key)\n\u001b[0;32m   <a href='file:///c%3A/Users/Yoshi/Documents/GitHub/git-env/lib/site-packages/pandas/core/indexes/base.py?line=3621'>3622</a>\u001b[0m \u001b[39mexcept\u001b[39;00m \u001b[39mKeyError\u001b[39;00m \u001b[39mas\u001b[39;00m err:\n",
      "File \u001b[1;32mc:\\Users\\Yoshi\\Documents\\GitHub\\git-env\\lib\\site-packages\\pandas\\_libs\\index.pyx:136\u001b[0m, in \u001b[0;36mpandas._libs.index.IndexEngine.get_loc\u001b[1;34m()\u001b[0m\n",
      "File \u001b[1;32mc:\\Users\\Yoshi\\Documents\\GitHub\\git-env\\lib\\site-packages\\pandas\\_libs\\index.pyx:142\u001b[0m, in \u001b[0;36mpandas._libs.index.IndexEngine.get_loc\u001b[1;34m()\u001b[0m\n",
      "\u001b[1;31mTypeError\u001b[0m: '(slice(None, None, None), array([False, False, False, False, False,  True, False,  True, False,\n       False, False, False,  True,  True, False,  True, False, False,\n       False, False,  True,  True, False,  True, False, False, False,\n       False,  True,  True, False,  True, False, False, False, False,\n        True,  True, False,  True, False, False, False, False,  True,\n        True, False,  True, False, False, False, False,  True,  True,\n       False,  True, False, False, False, False,  True,  True, False,\n        True, False, False, False, False,  True,  True, False,  True,\n       False, False, False, False,  True,  True, False,  True, False,\n       False, False, False,  True,  True, False,  True, False, False,\n       False, False,  True,  True, False,  True, False, False, False,\n       False,  True,  True, False,  True, False, False, False, False,\n        True,  True, False,  True, False, False, False, False,  True,\n        True, False,  True, False, False, False, False,  True,  True,\n       False,  True, False, False, False, False,  True,  True, False,\n        True, False, False, False, False,  True,  True, False,  True,\n       False, False, False, False,  True,  True, False,  True, False,\n       False, False, False,  True,  True, False,  True, False, False,\n       False, False,  True,  True, False,  True, False, False, False,\n       False,  True,  True, False,  True, False, False, False, False,\n        True,  True, False,  True, False, False, False, False,  True,\n        True, False,  True, False, False, False, False,  True,  True,\n       False,  True, False, False, False, False,  True,  True, False,\n        True, False, False, False, False,  True,  True, False,  True,\n       False, False, False, False,  True,  True, False,  True, False,\n       False, False, False,  True,  True, False,  True, False, False,\n       False, False,  True,  True, False,  True, False, False, False,\n       False,  True,  True, False,  True, False, False, False, False,\n        True,  True, False,  True, False, False, False, False,  True,\n        True, False,  True, False, False, False, False,  True,  True,\n       False,  True, False, False, False, False,  True,  True, False,\n        True, False, False, False, False,  True,  True, False,  True,\n       False, False, False, False,  True,  True, False,  True, False,\n       False, False, False,  True,  True, False,  True, False, False,\n       False, False,  True,  True, False,  True, False, False, False,\n       False,  True,  True, False,  True, False, False, False, False,\n        True,  True, False,  True, False, False, False, False,  True,\n        True, False,  True, False, False, False, False,  True,  True,\n       False,  True, False, False, False, False,  True,  True, False,\n        True, False, False, False, False,  True,  True, False,  True,\n       False, False, False, False,  True,  True, False,  True, False,\n       False, False, False,  True,  True, False,  True, False, False,\n       False, False,  True,  True, False,  True, False, False, False,\n       False,  True,  True, False,  True, False, False, False, False,\n        True,  True, False,  True, False, False, False, False,  True,\n        True, False, False]))' is an invalid key",
      "\nDuring handling of the above exception, another exception occurred:\n",
      "\u001b[1;31mInvalidIndexError\u001b[0m                         Traceback (most recent call last)",
      "\u001b[1;32mc:\\Users\\Yoshi\\Documents\\GitHub\\肥満症\\血液検査データの整形.ipynb Cell 6'\u001b[0m in \u001b[0;36m<module>\u001b[1;34m\u001b[0m\n\u001b[1;32m----> <a href='vscode-notebook-cell:/c%3A/Users/Yoshi/Documents/GitHub/%E8%82%A5%E6%BA%80%E7%97%87/%E8%A1%80%E6%B6%B2%E6%A4%9C%E6%9F%BB%E3%83%87%E3%83%BC%E3%82%BF%E3%81%AE%E6%95%B4%E5%BD%A2.ipynb#ch0000021?line=0'>1</a>\u001b[0m df[: , col]\n",
      "File \u001b[1;32mc:\\Users\\Yoshi\\Documents\\GitHub\\git-env\\lib\\site-packages\\pandas\\core\\frame.py:3506\u001b[0m, in \u001b[0;36mDataFrame.__getitem__\u001b[1;34m(self, key)\u001b[0m\n\u001b[0;32m   <a href='file:///c%3A/Users/Yoshi/Documents/GitHub/git-env/lib/site-packages/pandas/core/frame.py?line=3503'>3504</a>\u001b[0m \u001b[39mif\u001b[39;00m \u001b[39mself\u001b[39m\u001b[39m.\u001b[39mcolumns\u001b[39m.\u001b[39mnlevels \u001b[39m>\u001b[39m \u001b[39m1\u001b[39m:\n\u001b[0;32m   <a href='file:///c%3A/Users/Yoshi/Documents/GitHub/git-env/lib/site-packages/pandas/core/frame.py?line=3504'>3505</a>\u001b[0m     \u001b[39mreturn\u001b[39;00m \u001b[39mself\u001b[39m\u001b[39m.\u001b[39m_getitem_multilevel(key)\n\u001b[1;32m-> <a href='file:///c%3A/Users/Yoshi/Documents/GitHub/git-env/lib/site-packages/pandas/core/frame.py?line=3505'>3506</a>\u001b[0m indexer \u001b[39m=\u001b[39m \u001b[39mself\u001b[39;49m\u001b[39m.\u001b[39;49mcolumns\u001b[39m.\u001b[39;49mget_loc(key)\n\u001b[0;32m   <a href='file:///c%3A/Users/Yoshi/Documents/GitHub/git-env/lib/site-packages/pandas/core/frame.py?line=3506'>3507</a>\u001b[0m \u001b[39mif\u001b[39;00m is_integer(indexer):\n\u001b[0;32m   <a href='file:///c%3A/Users/Yoshi/Documents/GitHub/git-env/lib/site-packages/pandas/core/frame.py?line=3507'>3508</a>\u001b[0m     indexer \u001b[39m=\u001b[39m [indexer]\n",
      "File \u001b[1;32mc:\\Users\\Yoshi\\Documents\\GitHub\\git-env\\lib\\site-packages\\pandas\\core\\indexes\\base.py:3628\u001b[0m, in \u001b[0;36mIndex.get_loc\u001b[1;34m(self, key, method, tolerance)\u001b[0m\n\u001b[0;32m   <a href='file:///c%3A/Users/Yoshi/Documents/GitHub/git-env/lib/site-packages/pandas/core/indexes/base.py?line=3622'>3623</a>\u001b[0m         \u001b[39mraise\u001b[39;00m \u001b[39mKeyError\u001b[39;00m(key) \u001b[39mfrom\u001b[39;00m \u001b[39merr\u001b[39;00m\n\u001b[0;32m   <a href='file:///c%3A/Users/Yoshi/Documents/GitHub/git-env/lib/site-packages/pandas/core/indexes/base.py?line=3623'>3624</a>\u001b[0m     \u001b[39mexcept\u001b[39;00m \u001b[39mTypeError\u001b[39;00m:\n\u001b[0;32m   <a href='file:///c%3A/Users/Yoshi/Documents/GitHub/git-env/lib/site-packages/pandas/core/indexes/base.py?line=3624'>3625</a>\u001b[0m         \u001b[39m# If we have a listlike key, _check_indexing_error will raise\u001b[39;00m\n\u001b[0;32m   <a href='file:///c%3A/Users/Yoshi/Documents/GitHub/git-env/lib/site-packages/pandas/core/indexes/base.py?line=3625'>3626</a>\u001b[0m         \u001b[39m#  InvalidIndexError. Otherwise we fall through and re-raise\u001b[39;00m\n\u001b[0;32m   <a href='file:///c%3A/Users/Yoshi/Documents/GitHub/git-env/lib/site-packages/pandas/core/indexes/base.py?line=3626'>3627</a>\u001b[0m         \u001b[39m#  the TypeError.\u001b[39;00m\n\u001b[1;32m-> <a href='file:///c%3A/Users/Yoshi/Documents/GitHub/git-env/lib/site-packages/pandas/core/indexes/base.py?line=3627'>3628</a>\u001b[0m         \u001b[39mself\u001b[39;49m\u001b[39m.\u001b[39;49m_check_indexing_error(key)\n\u001b[0;32m   <a href='file:///c%3A/Users/Yoshi/Documents/GitHub/git-env/lib/site-packages/pandas/core/indexes/base.py?line=3628'>3629</a>\u001b[0m         \u001b[39mraise\u001b[39;00m\n\u001b[0;32m   <a href='file:///c%3A/Users/Yoshi/Documents/GitHub/git-env/lib/site-packages/pandas/core/indexes/base.py?line=3630'>3631</a>\u001b[0m \u001b[39m# GH#42269\u001b[39;00m\n",
      "File \u001b[1;32mc:\\Users\\Yoshi\\Documents\\GitHub\\git-env\\lib\\site-packages\\pandas\\core\\indexes\\base.py:5637\u001b[0m, in \u001b[0;36mIndex._check_indexing_error\u001b[1;34m(self, key)\u001b[0m\n\u001b[0;32m   <a href='file:///c%3A/Users/Yoshi/Documents/GitHub/git-env/lib/site-packages/pandas/core/indexes/base.py?line=5632'>5633</a>\u001b[0m \u001b[39mdef\u001b[39;00m \u001b[39m_check_indexing_error\u001b[39m(\u001b[39mself\u001b[39m, key):\n\u001b[0;32m   <a href='file:///c%3A/Users/Yoshi/Documents/GitHub/git-env/lib/site-packages/pandas/core/indexes/base.py?line=5633'>5634</a>\u001b[0m     \u001b[39mif\u001b[39;00m \u001b[39mnot\u001b[39;00m is_scalar(key):\n\u001b[0;32m   <a href='file:///c%3A/Users/Yoshi/Documents/GitHub/git-env/lib/site-packages/pandas/core/indexes/base.py?line=5634'>5635</a>\u001b[0m         \u001b[39m# if key is not a scalar, directly raise an error (the code below\u001b[39;00m\n\u001b[0;32m   <a href='file:///c%3A/Users/Yoshi/Documents/GitHub/git-env/lib/site-packages/pandas/core/indexes/base.py?line=5635'>5636</a>\u001b[0m         \u001b[39m# would convert to numpy arrays and raise later any way) - GH29926\u001b[39;00m\n\u001b[1;32m-> <a href='file:///c%3A/Users/Yoshi/Documents/GitHub/git-env/lib/site-packages/pandas/core/indexes/base.py?line=5636'>5637</a>\u001b[0m         \u001b[39mraise\u001b[39;00m InvalidIndexError(key)\n",
      "\u001b[1;31mInvalidIndexError\u001b[0m: (slice(None, None, None), array([False, False, False, False, False,  True, False,  True, False,\n       False, False, False,  True,  True, False,  True, False, False,\n       False, False,  True,  True, False,  True, False, False, False,\n       False,  True,  True, False,  True, False, False, False, False,\n        True,  True, False,  True, False, False, False, False,  True,\n        True, False,  True, False, False, False, False,  True,  True,\n       False,  True, False, False, False, False,  True,  True, False,\n        True, False, False, False, False,  True,  True, False,  True,\n       False, False, False, False,  True,  True, False,  True, False,\n       False, False, False,  True,  True, False,  True, False, False,\n       False, False,  True,  True, False,  True, False, False, False,\n       False,  True,  True, False,  True, False, False, False, False,\n        True,  True, False,  True, False, False, False, False,  True,\n        True, False,  True, False, False, False, False,  True,  True,\n       False,  True, False, False, False, False,  True,  True, False,\n        True, False, False, False, False,  True,  True, False,  True,\n       False, False, False, False,  True,  True, False,  True, False,\n       False, False, False,  True,  True, False,  True, False, False,\n       False, False,  True,  True, False,  True, False, False, False,\n       False,  True,  True, False,  True, False, False, False, False,\n        True,  True, False,  True, False, False, False, False,  True,\n        True, False,  True, False, False, False, False,  True,  True,\n       False,  True, False, False, False, False,  True,  True, False,\n        True, False, False, False, False,  True,  True, False,  True,\n       False, False, False, False,  True,  True, False,  True, False,\n       False, False, False,  True,  True, False,  True, False, False,\n       False, False,  True,  True, False,  True, False, False, False,\n       False,  True,  True, False,  True, False, False, False, False,\n        True,  True, False,  True, False, False, False, False,  True,\n        True, False,  True, False, False, False, False,  True,  True,\n       False,  True, False, False, False, False,  True,  True, False,\n        True, False, False, False, False,  True,  True, False,  True,\n       False, False, False, False,  True,  True, False,  True, False,\n       False, False, False,  True,  True, False,  True, False, False,\n       False, False,  True,  True, False,  True, False, False, False,\n       False,  True,  True, False,  True, False, False, False, False,\n        True,  True, False,  True, False, False, False, False,  True,\n        True, False,  True, False, False, False, False,  True,  True,\n       False,  True, False, False, False, False,  True,  True, False,\n        True, False, False, False, False,  True,  True, False,  True,\n       False, False, False, False,  True,  True, False,  True, False,\n       False, False, False,  True,  True, False,  True, False, False,\n       False, False,  True,  True, False,  True, False, False, False,\n       False,  True,  True, False,  True, False, False, False, False,\n        True,  True, False,  True, False, False, False, False,  True,\n        True, False, False]))"
     ]
    }
   ],
   "source": [
    "df.loc[: , col]"
   ]
  },
  {
   "cell_type": "code",
   "execution_count": null,
   "metadata": {},
   "outputs": [],
   "source": []
  }
 ],
 "metadata": {
  "interpreter": {
   "hash": "fd218957dcb4ab798cee8403cd79ce6a8b18e91a92ca516b32d19ffaf2a49055"
  },
  "kernelspec": {
   "display_name": "Python 3.9.7 ('git-env': venv)",
   "language": "python",
   "name": "python3"
  },
  "language_info": {
   "codemirror_mode": {
    "name": "ipython",
    "version": 3
   },
   "file_extension": ".py",
   "mimetype": "text/x-python",
   "name": "python",
   "nbconvert_exporter": "python",
   "pygments_lexer": "ipython3",
   "version": "3.9.7"
  },
  "orig_nbformat": 4
 },
 "nbformat": 4,
 "nbformat_minor": 2
}
